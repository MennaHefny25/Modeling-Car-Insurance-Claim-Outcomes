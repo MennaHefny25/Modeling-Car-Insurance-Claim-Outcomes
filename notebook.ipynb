{
 "cells": [
  {
   "cell_type": "markdown",
   "id": "c3f0e974-faf8-458f-bf2a-06a469d0ea5e",
   "metadata": {},
   "source": [
    "![car](car.jpg)\n",
    "\n",
    "Insurance companies invest a lot of [time and money](https://www.accenture.com/_acnmedia/pdf-84/accenture-machine-leaning-insurance.pdf) into optimizing their pricing and accurately estimating the likelihood that customers will make a claim. In many countries insurance it is a legal requirement to have car insurance in order to drive a vehicle on public roads, so the market is very large!\n",
    "\n",
    "Knowing all of this, On the Road car insurance have requested your services in building a model to predict whether a customer will make a claim on their insurance during the policy period. As they have very little expertise and infrastructure for deploying and monitoring machine learning models, they've asked you to identify the single feature that results in the best performing model, as measured by accuracy, so they can start with a simple model in production.\n",
    "\n",
    "They have supplied you with their customer data as a csv file called `car_insurance.csv`, along with a table detailing the column names and descriptions below."
   ]
  },
  {
   "cell_type": "markdown",
   "id": "8928ffdf-25d6-4ad9-909f-0dd8d10b9a42",
   "metadata": {},
   "source": [
    "\n",
    "\n",
    "## The dataset\n",
    "\n",
    "| Column | Description |\n",
    "|--------|-------------|\n",
    "| `id` | Unique client identifier |\n",
    "| `age` | Client's age: <br> <ul><li>`0`: 16-15</li><li>`1`: 26-39</li><li>`2`: 40-64</li><li>`3`: 65+</li></ul> |\n",
    "| `gender` | Client's gender: <br> <ul><li>`0`: Female</li><li>`1`: Male</li></ul> |\n",
    "| `driving_experience` | Years the client has been driving: <br> <ul><li>`0`: 0-9</li><li>`1`: 10-19</li><li>`2`: 20-29</li><li>`3`: 30+</li></ul> |\n",
    "| `education` | Client's level of education: <br> <ul><li>`0`: No education</li><li>`1`: High school</li><li>`2`: University</li></ul> |\n",
    "| `income` | Client's income level: <br> <ul><li>`0`: Poverty</li><li>`1`: Working class</li><li>`2`: Middle class</li><li>`3`: Upper class</li></ul> |\n",
    "| `credit_score` | Client's credit score (between zero and one) |\n",
    "| `vehicle_ownership` | Client's vehicle ownership status: <br><ul><li>`0`: Does not own their vehilce (paying off finance)</li><li>`1`: Owns their vehicle</li></ul> |\n",
    "| `vehcile_year` | Year of vehicle registration: <br><ul><li>`0`: Before 2015</li><li>`1`: 2015 or later</li></ul> |\n",
    "| `married` | Client's marital status: <br><ul><li>`0`: Not married</li><li>`1`: Married</li></ul> |\n",
    "| `children` | Client's number of children |\n",
    "| `postal_code` | Client's postal code | \n",
    "| `annual_mileage` | Number of miles driven by the client each year |\n",
    "| `vehicle_type` | Type of car: <br> <ul><li>`0`: Sedan</li><li>`1`: Sports car</li></ul> |\n",
    "| `speeding_violations` | Total number of speeding violations received by the client | \n",
    "| `duis` | Number of times the client has been caught driving under the influence of alcohol |\n",
    "| `past_accidents` | Total number of previous accidents the client has been involved in |\n",
    "| `outcome` | Whether the client made a claim on their car insurance (response variable): <br><ul><li>`0`: No claim</li><li>`1`: Made a claim</li></ul> |"
   ]
  },
  {
   "cell_type": "code",
   "execution_count": 21,
   "id": "d0eb4f16-5a99-460d-a5ba-706b7ef0bbe7",
   "metadata": {
    "executionCancelledAt": null,
    "executionTime": 500,
    "id": "bA5ajAmk7XH6",
    "lastExecutedAt": 1708657623018,
    "lastScheduledRunId": null,
    "lastSuccessfullyExecutedCode": "# Import required modules\nimport pandas as pd\nimport numpy as np\nfrom statsmodels.formula.api import logit\n\n# Start coding!"
   },
   "outputs": [],
   "source": [
    "# Import required modules\n",
    "import pandas as pd\n",
    "import numpy as np\n",
    "from statsmodels.formula.api import logit\n"
   ]
  },
  {
   "cell_type": "markdown",
   "id": "9385a086-844c-4edf-b9aa-c6cb98c0a377",
   "metadata": {},
   "source": [
    "## Reading in and exploring the dataset"
   ]
  },
  {
   "cell_type": "code",
   "execution_count": 32,
   "id": "2cd2aefb-9ddf-4522-b556-30a0f926e904",
   "metadata": {
    "executionCancelledAt": null,
    "executionTime": 52,
    "lastExecutedAt": 1708659450492,
    "lastScheduledRunId": null,
    "lastSuccessfullyExecutedCode": "# Create car_insurance DataFrame\ncar_insurance = pd.read_csv('car_insurance.csv')\ncar_insurance.head()"
   },
   "outputs": [
    {
     "data": {
      "text/html": [
       "<div>\n",
       "<style scoped>\n",
       "    .dataframe tbody tr th:only-of-type {\n",
       "        vertical-align: middle;\n",
       "    }\n",
       "\n",
       "    .dataframe tbody tr th {\n",
       "        vertical-align: top;\n",
       "    }\n",
       "\n",
       "    .dataframe thead th {\n",
       "        text-align: right;\n",
       "    }\n",
       "</style>\n",
       "<table border=\"1\" class=\"dataframe\">\n",
       "  <thead>\n",
       "    <tr style=\"text-align: right;\">\n",
       "      <th></th>\n",
       "      <th>id</th>\n",
       "      <th>age</th>\n",
       "      <th>gender</th>\n",
       "      <th>driving_experience</th>\n",
       "      <th>education</th>\n",
       "      <th>income</th>\n",
       "      <th>credit_score</th>\n",
       "      <th>vehicle_ownership</th>\n",
       "      <th>vehicle_year</th>\n",
       "      <th>married</th>\n",
       "      <th>children</th>\n",
       "      <th>postal_code</th>\n",
       "      <th>annual_mileage</th>\n",
       "      <th>vehicle_type</th>\n",
       "      <th>speeding_violations</th>\n",
       "      <th>duis</th>\n",
       "      <th>past_accidents</th>\n",
       "      <th>outcome</th>\n",
       "    </tr>\n",
       "  </thead>\n",
       "  <tbody>\n",
       "    <tr>\n",
       "      <th>0</th>\n",
       "      <td>569520</td>\n",
       "      <td>3</td>\n",
       "      <td>0</td>\n",
       "      <td>0-9y</td>\n",
       "      <td>high school</td>\n",
       "      <td>upper class</td>\n",
       "      <td>0.629027</td>\n",
       "      <td>1.0</td>\n",
       "      <td>after 2015</td>\n",
       "      <td>0.0</td>\n",
       "      <td>1.0</td>\n",
       "      <td>10238</td>\n",
       "      <td>12000.0</td>\n",
       "      <td>sedan</td>\n",
       "      <td>0</td>\n",
       "      <td>0</td>\n",
       "      <td>0</td>\n",
       "      <td>0.0</td>\n",
       "    </tr>\n",
       "    <tr>\n",
       "      <th>1</th>\n",
       "      <td>750365</td>\n",
       "      <td>0</td>\n",
       "      <td>1</td>\n",
       "      <td>0-9y</td>\n",
       "      <td>none</td>\n",
       "      <td>poverty</td>\n",
       "      <td>0.357757</td>\n",
       "      <td>0.0</td>\n",
       "      <td>before 2015</td>\n",
       "      <td>0.0</td>\n",
       "      <td>0.0</td>\n",
       "      <td>10238</td>\n",
       "      <td>16000.0</td>\n",
       "      <td>sedan</td>\n",
       "      <td>0</td>\n",
       "      <td>0</td>\n",
       "      <td>0</td>\n",
       "      <td>1.0</td>\n",
       "    </tr>\n",
       "    <tr>\n",
       "      <th>2</th>\n",
       "      <td>199901</td>\n",
       "      <td>0</td>\n",
       "      <td>0</td>\n",
       "      <td>0-9y</td>\n",
       "      <td>high school</td>\n",
       "      <td>working class</td>\n",
       "      <td>0.493146</td>\n",
       "      <td>1.0</td>\n",
       "      <td>before 2015</td>\n",
       "      <td>0.0</td>\n",
       "      <td>0.0</td>\n",
       "      <td>10238</td>\n",
       "      <td>11000.0</td>\n",
       "      <td>sedan</td>\n",
       "      <td>0</td>\n",
       "      <td>0</td>\n",
       "      <td>0</td>\n",
       "      <td>0.0</td>\n",
       "    </tr>\n",
       "    <tr>\n",
       "      <th>3</th>\n",
       "      <td>478866</td>\n",
       "      <td>0</td>\n",
       "      <td>1</td>\n",
       "      <td>0-9y</td>\n",
       "      <td>university</td>\n",
       "      <td>working class</td>\n",
       "      <td>0.206013</td>\n",
       "      <td>1.0</td>\n",
       "      <td>before 2015</td>\n",
       "      <td>0.0</td>\n",
       "      <td>1.0</td>\n",
       "      <td>32765</td>\n",
       "      <td>11000.0</td>\n",
       "      <td>sedan</td>\n",
       "      <td>0</td>\n",
       "      <td>0</td>\n",
       "      <td>0</td>\n",
       "      <td>0.0</td>\n",
       "    </tr>\n",
       "    <tr>\n",
       "      <th>4</th>\n",
       "      <td>731664</td>\n",
       "      <td>1</td>\n",
       "      <td>1</td>\n",
       "      <td>10-19y</td>\n",
       "      <td>none</td>\n",
       "      <td>working class</td>\n",
       "      <td>0.388366</td>\n",
       "      <td>1.0</td>\n",
       "      <td>before 2015</td>\n",
       "      <td>0.0</td>\n",
       "      <td>0.0</td>\n",
       "      <td>32765</td>\n",
       "      <td>12000.0</td>\n",
       "      <td>sedan</td>\n",
       "      <td>2</td>\n",
       "      <td>0</td>\n",
       "      <td>1</td>\n",
       "      <td>1.0</td>\n",
       "    </tr>\n",
       "  </tbody>\n",
       "</table>\n",
       "</div>"
      ],
      "text/plain": [
       "       id  age  gender driving_experience    education         income  \\\n",
       "0  569520    3       0               0-9y  high school    upper class   \n",
       "1  750365    0       1               0-9y         none        poverty   \n",
       "2  199901    0       0               0-9y  high school  working class   \n",
       "3  478866    0       1               0-9y   university  working class   \n",
       "4  731664    1       1             10-19y         none  working class   \n",
       "\n",
       "   credit_score  vehicle_ownership vehicle_year  married  children  \\\n",
       "0      0.629027                1.0   after 2015      0.0       1.0   \n",
       "1      0.357757                0.0  before 2015      0.0       0.0   \n",
       "2      0.493146                1.0  before 2015      0.0       0.0   \n",
       "3      0.206013                1.0  before 2015      0.0       1.0   \n",
       "4      0.388366                1.0  before 2015      0.0       0.0   \n",
       "\n",
       "   postal_code  annual_mileage vehicle_type  speeding_violations  duis  \\\n",
       "0        10238         12000.0        sedan                    0     0   \n",
       "1        10238         16000.0        sedan                    0     0   \n",
       "2        10238         11000.0        sedan                    0     0   \n",
       "3        32765         11000.0        sedan                    0     0   \n",
       "4        32765         12000.0        sedan                    2     0   \n",
       "\n",
       "   past_accidents  outcome  \n",
       "0               0      0.0  \n",
       "1               0      1.0  \n",
       "2               0      0.0  \n",
       "3               0      0.0  \n",
       "4               1      1.0  "
      ]
     },
     "execution_count": 32,
     "metadata": {},
     "output_type": "execute_result"
    }
   ],
   "source": [
    "# Create car_insurance DataFrame\n",
    "car_insurance = pd.read_csv('car_insurance.csv')\n",
    "car_insurance.head()"
   ]
  },
  {
   "cell_type": "code",
   "execution_count": 33,
   "id": "5a1025d6-d076-4d76-b468-e59fd3a3d34c",
   "metadata": {
    "executionCancelledAt": null,
    "executionTime": 19,
    "lastExecutedAt": 1708659525852,
    "lastScheduledRunId": null,
    "lastSuccessfullyExecutedCode": "# Examine data types and missing values\ncar_insurance.info()",
    "outputsMetadata": {
     "0": {
      "height": 517,
      "type": "stream"
     }
    }
   },
   "outputs": [
    {
     "name": "stdout",
     "output_type": "stream",
     "text": [
      "<class 'pandas.core.frame.DataFrame'>\n",
      "RangeIndex: 10000 entries, 0 to 9999\n",
      "Data columns (total 18 columns):\n",
      " #   Column               Non-Null Count  Dtype  \n",
      "---  ------               --------------  -----  \n",
      " 0   id                   10000 non-null  int64  \n",
      " 1   age                  10000 non-null  int64  \n",
      " 2   gender               10000 non-null  int64  \n",
      " 3   driving_experience   10000 non-null  object \n",
      " 4   education            10000 non-null  object \n",
      " 5   income               10000 non-null  object \n",
      " 6   credit_score         9018 non-null   float64\n",
      " 7   vehicle_ownership    10000 non-null  float64\n",
      " 8   vehicle_year         10000 non-null  object \n",
      " 9   married              10000 non-null  float64\n",
      " 10  children             10000 non-null  float64\n",
      " 11  postal_code          10000 non-null  int64  \n",
      " 12  annual_mileage       9043 non-null   float64\n",
      " 13  vehicle_type         10000 non-null  object \n",
      " 14  speeding_violations  10000 non-null  int64  \n",
      " 15  duis                 10000 non-null  int64  \n",
      " 16  past_accidents       10000 non-null  int64  \n",
      " 17  outcome              10000 non-null  float64\n",
      "dtypes: float64(6), int64(7), object(5)\n",
      "memory usage: 1.4+ MB\n"
     ]
    }
   ],
   "source": [
    "# Examine data types and missing values\n",
    "car_insurance.info()"
   ]
  },
  {
   "cell_type": "markdown",
   "id": "c08c8016-220b-42a5-8732-e5971eb6a6bb",
   "metadata": {},
   "source": [
    "## Filling missing values"
   ]
  },
  {
   "cell_type": "code",
   "execution_count": 34,
   "id": "7e401144-0b00-4717-b9a3-3cbea750e37f",
   "metadata": {},
   "outputs": [],
   "source": [
    "# Replace missing values with the mean of the \"credit_score\" column \n",
    "car_insurance[\"credit_score\"].fillna(car_insurance[\"credit_score\"].mean(), inplace=True)\n",
    "\n",
    "# Replace missing values with the mean of the \"annual_mileage\" column \n",
    "car_insurance[\"annual_mileage\"].fillna(car_insurance[\"annual_mileage\"].mean(), inplace=True)\n"
   ]
  },
  {
   "cell_type": "markdown",
   "id": "2a3dab08",
   "metadata": {},
   "source": [
    "## Preparing for modeling"
   ]
  },
  {
   "cell_type": "code",
   "execution_count": 36,
   "id": "6bf25a89",
   "metadata": {},
   "outputs": [
    {
     "data": {
      "text/plain": [
       "Index(['age', 'gender', 'driving_experience', 'education', 'income',\n",
       "       'credit_score', 'vehicle_ownership', 'vehicle_year', 'married',\n",
       "       'children', 'postal_code', 'annual_mileage', 'vehicle_type',\n",
       "       'speeding_violations', 'duis', 'past_accidents'],\n",
       "      dtype='object')"
      ]
     },
     "execution_count": 36,
     "metadata": {},
     "output_type": "execute_result"
    }
   ],
   "source": [
    "# Create a list of features\n",
    "features = car_insurance.drop(columns=[\"id\", \"outcome\"]).columns\n",
    "features"
   ]
  },
  {
   "cell_type": "code",
   "execution_count": 39,
   "id": "5f60cea6",
   "metadata": {},
   "outputs": [
    {
     "name": "stdout",
     "output_type": "stream",
     "text": [
      "Optimization terminated successfully.\n",
      "         Current function value: 0.511794\n",
      "         Iterations 6\n",
      "Optimization terminated successfully.\n",
      "         Current function value: 0.615951\n",
      "         Iterations 5\n",
      "Optimization terminated successfully.\n",
      "         Current function value: 0.467092\n",
      "         Iterations 8\n",
      "Optimization terminated successfully.\n",
      "         Current function value: 0.603742\n",
      "         Iterations 5\n",
      "Optimization terminated successfully.\n",
      "         Current function value: 0.531499\n",
      "         Iterations 6\n",
      "Optimization terminated successfully.\n",
      "         Current function value: 0.572557\n",
      "         Iterations 6\n",
      "Optimization terminated successfully.\n",
      "         Current function value: 0.552412\n",
      "         Iterations 5\n",
      "Optimization terminated successfully.\n",
      "         Current function value: 0.572668\n",
      "         Iterations 6\n",
      "Optimization terminated successfully.\n",
      "         Current function value: 0.586659\n",
      "         Iterations 5\n",
      "Optimization terminated successfully.\n",
      "         Current function value: 0.595431\n",
      "         Iterations 5\n",
      "Optimization terminated successfully.\n",
      "         Current function value: 0.617345\n",
      "         Iterations 5\n",
      "Optimization terminated successfully.\n",
      "         Current function value: 0.605716\n",
      "         Iterations 5\n",
      "Optimization terminated successfully.\n",
      "         Current function value: 0.621700\n",
      "         Iterations 5\n",
      "Optimization terminated successfully.\n",
      "         Current function value: 0.558922\n",
      "         Iterations 7\n",
      "Optimization terminated successfully.\n",
      "         Current function value: 0.598699\n",
      "         Iterations 6\n",
      "Optimization terminated successfully.\n",
      "         Current function value: 0.549220\n",
      "         Iterations 7\n"
     ]
    }
   ],
   "source": [
    "# Create a list to store the models\n",
    "models = []\n",
    "\n",
    "# Loop through features\n",
    "for feature in features:\n",
    "    # Create & fit the model\n",
    "    model = logit(f\"outcome ~ {feature}\", data=car_insurance).fit()\n",
    "    # Add each model to models list\n",
    "    models.append(model)\n"
   ]
  },
  {
   "cell_type": "markdown",
   "id": "fc1dbb53",
   "metadata": {},
   "source": [
    "## Measuring performance"
   ]
  },
  {
   "cell_type": "code",
   "execution_count": 40,
   "id": "f9db1da5",
   "metadata": {},
   "outputs": [
    {
     "data": {
      "text/plain": [
       "[0.7747,\n",
       " 0.6867,\n",
       " 0.7771,\n",
       " 0.6867,\n",
       " 0.7425,\n",
       " 0.7054,\n",
       " 0.7351,\n",
       " 0.6867,\n",
       " 0.6867,\n",
       " 0.6867,\n",
       " 0.6867,\n",
       " 0.6904,\n",
       " 0.6867,\n",
       " 0.6867,\n",
       " 0.6867,\n",
       " 0.6867]"
      ]
     },
     "execution_count": 40,
     "metadata": {},
     "output_type": "execute_result"
    }
   ],
   "source": [
    "# Create a list to store the models accuracies\n",
    "accuracies = []\n",
    "\n",
    "# Loop through models\n",
    "for feature in range(0, len(models)):\n",
    "    # Compute the confusion matrix\n",
    "    conf_matrix = models[feature].pred_table()\n",
    "    # Compute TP\n",
    "    TP = conf_matrix[1, 1]\n",
    "    \n",
    "    # Compute TN\n",
    "    TN = conf_matrix[0, 0]\n",
    "    \n",
    "    # Compute FP\n",
    "    FP = conf_matrix[0, 1]\n",
    "    \n",
    "    # Compute FN\n",
    "    FN = conf_matrix[1, 0]\n",
    "    \n",
    "    # Compute accuracy\n",
    "    accuracy = (TP + TN) / (TP + TN + FP + FN)\n",
    "    \n",
    "    # Add each model accuracy to accuracies list\n",
    "    accuracies.append(accuracy)\n",
    "accuracies"
   ]
  },
  {
   "cell_type": "markdown",
   "id": "c77b0ad5",
   "metadata": {},
   "source": [
    "## Finding the best performing model"
   ]
  },
  {
   "cell_type": "code",
   "execution_count": 42,
   "id": "c8663260",
   "metadata": {},
   "outputs": [
    {
     "data": {
      "text/plain": [
       "'driving_experience'"
      ]
     },
     "execution_count": 42,
     "metadata": {},
     "output_type": "execute_result"
    }
   ],
   "source": [
    "# Identifying the index of accuracies with the largest score\n",
    "best_feature = features[accuracies.index(max(accuracies))]\n",
    "best_feature"
   ]
  },
  {
   "cell_type": "code",
   "execution_count": 47,
   "id": "6ef33905",
   "metadata": {},
   "outputs": [
    {
     "data": {
      "text/html": [
       "<div>\n",
       "<style scoped>\n",
       "    .dataframe tbody tr th:only-of-type {\n",
       "        vertical-align: middle;\n",
       "    }\n",
       "\n",
       "    .dataframe tbody tr th {\n",
       "        vertical-align: top;\n",
       "    }\n",
       "\n",
       "    .dataframe thead th {\n",
       "        text-align: right;\n",
       "    }\n",
       "</style>\n",
       "<table border=\"1\" class=\"dataframe\">\n",
       "  <thead>\n",
       "    <tr style=\"text-align: right;\">\n",
       "      <th></th>\n",
       "      <th>best_feature</th>\n",
       "      <th>best_accuracy</th>\n",
       "    </tr>\n",
       "  </thead>\n",
       "  <tbody>\n",
       "    <tr>\n",
       "      <th>0</th>\n",
       "      <td>driving_experience</td>\n",
       "      <td>0.7771</td>\n",
       "    </tr>\n",
       "  </tbody>\n",
       "</table>\n",
       "</div>"
      ],
      "text/plain": [
       "         best_feature  best_accuracy\n",
       "0  driving_experience         0.7771"
      ]
     },
     "execution_count": 47,
     "metadata": {},
     "output_type": "execute_result"
    }
   ],
   "source": [
    "# Create best_feature_df\n",
    "best_feature_df = pd.DataFrame(\n",
    "    {\"best_feature\": best_feature, \"best_accuracy\": max(accuracies)},\n",
    "    index=[0]\n",
    ")\n",
    "best_feature_df"
   ]
  }
 ],
 "metadata": {
  "colab": {
   "name": "Welcome to DataCamp Workspaces.ipynb",
   "provenance": []
  },
  "editor": "DataCamp Workspace",
  "kernelspec": {
   "display_name": "Python 3 (ipykernel)",
   "language": "python",
   "name": "python3"
  },
  "language_info": {
   "codemirror_mode": {
    "name": "ipython",
    "version": 3
   },
   "file_extension": ".py",
   "mimetype": "text/x-python",
   "name": "python",
   "nbconvert_exporter": "python",
   "pygments_lexer": "ipython3",
   "version": "3.11.5"
  },
  "vscode": {
   "interpreter": {
    "hash": "aee8b7b246df8f9039afb4144a1f6fd8d2ca17a180786b69acc140d282b71a49"
   }
  }
 },
 "nbformat": 4,
 "nbformat_minor": 5
}
